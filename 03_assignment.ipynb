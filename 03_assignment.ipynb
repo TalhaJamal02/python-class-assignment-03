{
  "nbformat": 4,
  "nbformat_minor": 0,
  "metadata": {
    "colab": {
      "provenance": [],
      "collapsed_sections": [
        "l1wBVrc_xMfJ",
        "lb3-BQXp0X1J"
      ],
      "authorship_tag": "ABX9TyOpDBBZtIJNjJ19QjKAChvy",
      "include_colab_link": true
    },
    "kernelspec": {
      "name": "python3",
      "display_name": "Python 3"
    },
    "language_info": {
      "name": "python"
    }
  },
  "cells": [
    {
      "cell_type": "markdown",
      "metadata": {
        "id": "view-in-github",
        "colab_type": "text"
      },
      "source": [
        "<a href=\"https://colab.research.google.com/github/TalhaJamal02/python-class-assignment-03/blob/main/03_assignment.ipynb\" target=\"_parent\"><img src=\"https://colab.research.google.com/assets/colab-badge.svg\" alt=\"Open In Colab\"/></a>"
      ]
    },
    {
      "cell_type": "markdown",
      "source": [
        "# **List Tuples and methods**"
      ],
      "metadata": {
        "id": "w5qHJjE0xCj4"
      }
    },
    {
      "cell_type": "markdown",
      "source": [
        "## **Basic List Operations**"
      ],
      "metadata": {
        "id": "l1wBVrc_xMfJ"
      }
    },
    {
      "cell_type": "code",
      "source": [
        "number_list = [1, 2, 3, 4, 5]\n",
        "\n",
        "print(number_list)\n",
        "number_list.append(6)\n",
        "print(number_list)"
      ],
      "metadata": {
        "colab": {
          "base_uri": "https://localhost:8080/"
        },
        "id": "9vSSL5_OxHzg",
        "outputId": "fcdfe2a7-a49a-4e9e-9995-81dec9a04456"
      },
      "execution_count": null,
      "outputs": [
        {
          "output_type": "stream",
          "name": "stdout",
          "text": [
            "[1, 2, 3, 4, 5]\n",
            "[1, 2, 3, 4, 5, 6]\n"
          ]
        }
      ]
    },
    {
      "cell_type": "code",
      "source": [
        "list_1 = [1, 2, 3]\n",
        "list_2 = [4, 5, 6]\n",
        "\n",
        "print(list_1)\n",
        "list_1.extend(list_2)\n",
        "print(list_1)"
      ],
      "metadata": {
        "colab": {
          "base_uri": "https://localhost:8080/"
        },
        "id": "G1N6LHdMyJSY",
        "outputId": "d4641cab-9392-4e76-d167-b3cbd6dbb6e7"
      },
      "execution_count": null,
      "outputs": [
        {
          "output_type": "stream",
          "name": "stdout",
          "text": [
            "[1, 2, 3]\n",
            "[1, 2, 3, 4, 5, 6]\n"
          ]
        }
      ]
    },
    {
      "cell_type": "code",
      "source": [
        "prog_list =  [\"Java\", \"C++\", \"JavaScript\",\"Ruby\"]\n",
        "\n",
        "print(prog_list)\n",
        "prog_list.insert(2, \"Python\") # insert(index, what to change)\n",
        "print(prog_list)"
      ],
      "metadata": {
        "colab": {
          "base_uri": "https://localhost:8080/"
        },
        "id": "RzYWo4SQy2so",
        "outputId": "9635503b-aa9d-4f9b-bf43-4be40b24d3e7"
      },
      "execution_count": null,
      "outputs": [
        {
          "output_type": "stream",
          "name": "stdout",
          "text": [
            "['Java', 'C++', 'JavaScript', 'Ruby']\n",
            "['Java', 'C++', 'Python', 'JavaScript', 'Ruby']\n"
          ]
        }
      ]
    },
    {
      "cell_type": "code",
      "source": [
        "num_list = [10, 20, 30, 10, 40]\n",
        "\n",
        "print(num_list)\n",
        "# num_list.remove(10)\n",
        "print(num_list)"
      ],
      "metadata": {
        "colab": {
          "base_uri": "https://localhost:8080/"
        },
        "id": "3xUBcxi6zYIo",
        "outputId": "227d76f2-b5f2-4c18-9dfe-63ea9b571e0d"
      },
      "execution_count": null,
      "outputs": [
        {
          "output_type": "stream",
          "name": "stdout",
          "text": [
            "[10, 20, 30, 10, 40]\n",
            "[10, 20, 30, 10, 40]\n"
          ]
        }
      ]
    },
    {
      "cell_type": "code",
      "source": [
        "num = [100, 200, 300, 400]\n",
        "\n",
        "print(num)\n",
        "num.pop()\n",
        "print(num)"
      ],
      "metadata": {
        "colab": {
          "base_uri": "https://localhost:8080/"
        },
        "id": "XyCo9x510BFo",
        "outputId": "c1c00fa3-6993-44b0-fcd7-85296aae4b86"
      },
      "execution_count": null,
      "outputs": [
        {
          "output_type": "stream",
          "name": "stdout",
          "text": [
            "[100, 200, 300, 400]\n",
            "[100, 200, 300]\n"
          ]
        }
      ]
    },
    {
      "cell_type": "markdown",
      "source": [
        "## **Intermediate List Operations**"
      ],
      "metadata": {
        "id": "lb3-BQXp0X1J"
      }
    },
    {
      "cell_type": "code",
      "source": [
        "num = [5, 10, 5, 20, 5, 30]\n",
        "count_num = num.count(5)\n",
        "print(count_num)"
      ],
      "metadata": {
        "colab": {
          "base_uri": "https://localhost:8080/"
        },
        "id": "q1Wfc-tZ0e0w",
        "outputId": "902fced5-aed9-4fdd-c116-8c9af0e1c88e"
      },
      "execution_count": null,
      "outputs": [
        {
          "output_type": "stream",
          "name": "stdout",
          "text": [
            "3\n"
          ]
        }
      ]
    },
    {
      "cell_type": "code",
      "source": [
        "sort_list = [9, 1, 8, 3, 5]\n",
        "\n",
        "sort_list.sort()\n",
        "print(sort_list)\n",
        "sort_list.sort(reverse=True)\n",
        "print(sort_list)"
      ],
      "metadata": {
        "colab": {
          "base_uri": "https://localhost:8080/"
        },
        "id": "Rpji3prW0-t4",
        "outputId": "4953e1bd-b2de-4287-84f5-53d66e8dc6a7"
      },
      "execution_count": null,
      "outputs": [
        {
          "output_type": "stream",
          "name": "stdout",
          "text": [
            "[1, 3, 5, 8, 9]\n",
            "[9, 8, 5, 3, 1]\n"
          ]
        }
      ]
    },
    {
      "cell_type": "code",
      "source": [
        "reverse_list = [\"apple\", \"banana\", \"cherry\"]\n",
        "\n",
        "print(reverse_list)\n",
        "reverse_list.reverse()\n",
        "print(reverse_list)"
      ],
      "metadata": {
        "colab": {
          "base_uri": "https://localhost:8080/"
        },
        "id": "tBLPF5dT1prY",
        "outputId": "7af83854-f31f-4f20-d620-dd2a9ad5f043"
      },
      "execution_count": null,
      "outputs": [
        {
          "output_type": "stream",
          "name": "stdout",
          "text": [
            "['apple', 'banana', 'cherry']\n",
            "['cherry', 'banana', 'apple']\n"
          ]
        }
      ]
    },
    {
      "cell_type": "code",
      "source": [
        "num_list = [1, 2, 3, 4, 5]\n",
        "print(num_list)\n",
        "\n",
        "copied_list = num_list.copy()\n",
        "copied_list.pop()\n",
        "copied_list.append(7)\n",
        "print(copied_list)"
      ],
      "metadata": {
        "colab": {
          "base_uri": "https://localhost:8080/"
        },
        "id": "eK51rQKG19a4",
        "outputId": "540a19c2-97f8-42b3-b519-336cb1b13fb2"
      },
      "execution_count": null,
      "outputs": [
        {
          "output_type": "stream",
          "name": "stdout",
          "text": [
            "[1, 2, 3, 4, 5]\n",
            "[1, 2, 3, 4, 7]\n"
          ]
        }
      ]
    },
    {
      "cell_type": "code",
      "source": [
        "words_list = [\"hello\", \"world\", \"python\"]\n",
        "\n",
        "print(words_list)\n",
        "words_list.clear()\n",
        "print(words_list)"
      ],
      "metadata": {
        "colab": {
          "base_uri": "https://localhost:8080/"
        },
        "id": "Zvo9D_gT2J6o",
        "outputId": "1f27a8c0-e331-4ce4-e6ff-3767a360aed3"
      },
      "execution_count": null,
      "outputs": [
        {
          "output_type": "stream",
          "name": "stdout",
          "text": [
            "['hello', 'world', 'python']\n",
            "[]\n"
          ]
        }
      ]
    },
    {
      "cell_type": "markdown",
      "source": [
        "## **Tuple-Based Questions**"
      ],
      "metadata": {
        "id": "kPvpC0aw3s-p"
      }
    },
    {
      "cell_type": "code",
      "source": [
        "friuts = (\"Apple\", \"Mango\", \"Watermelon\", \"Peach\", \"Strawberry\")\n",
        "\n",
        "print(friuts[2])"
      ],
      "metadata": {
        "id": "GfqY4kBp386w",
        "colab": {
          "base_uri": "https://localhost:8080/"
        },
        "outputId": "e2fc9081-ff8b-4d53-8ad8-3cc8fc6dbdfb"
      },
      "execution_count": 5,
      "outputs": [
        {
          "output_type": "stream",
          "name": "stdout",
          "text": [
            "Watermelon\n"
          ]
        }
      ]
    },
    {
      "cell_type": "code",
      "source": [
        "nums = (10, 20, 30, 40, 50)\n",
        "\n",
        "nums_list = list(nums)\n",
        "nums_list.remove(30)\n",
        "\n",
        "nums_tuple = tuple(nums_list)\n",
        "print(nums_tuple)"
      ],
      "metadata": {
        "colab": {
          "base_uri": "https://localhost:8080/"
        },
        "id": "-STHvSkpqeDs",
        "outputId": "52ac28ad-66d0-484f-bb81-7c03393c73cb"
      },
      "execution_count": 9,
      "outputs": [
        {
          "output_type": "stream",
          "name": "stdout",
          "text": [
            "(10, 20, 40, 50)\n"
          ]
        }
      ]
    },
    {
      "cell_type": "code",
      "source": [
        "char = (\"A\", \"B\", \"C\")\n",
        "\n",
        "print(char)\n",
        "# char.append(\"D\") # It will give an error, because tuples are immutable means their contents cannot be changed.\n",
        "\n",
        "# Let use list() approach,\n",
        "char_list = list(char)\n",
        "char_list.append(\"D\")\n",
        "\n",
        "char_tuple = tuple(char_list)\n",
        "print(char_tuple)"
      ],
      "metadata": {
        "colab": {
          "base_uri": "https://localhost:8080/"
        },
        "id": "VmSkRZknrKHM",
        "outputId": "e07accc2-4c6a-4c92-ea6a-3d8451991b2f"
      },
      "execution_count": 13,
      "outputs": [
        {
          "output_type": "stream",
          "name": "stdout",
          "text": [
            "('A', 'B', 'C')\n",
            "('A', 'B', 'C', 'D')\n"
          ]
        }
      ]
    },
    {
      "cell_type": "code",
      "source": [
        "nums = (100, 200, 300)\n",
        "\n",
        "a, b, c = nums\n",
        "print(a, b ,c)"
      ],
      "metadata": {
        "colab": {
          "base_uri": "https://localhost:8080/"
        },
        "id": "wSd7LKE8tQls",
        "outputId": "d662dec2-0338-421c-8824-62df3f2482ce"
      },
      "execution_count": 15,
      "outputs": [
        {
          "output_type": "stream",
          "name": "stdout",
          "text": [
            "100 200 300\n"
          ]
        }
      ]
    },
    {
      "cell_type": "code",
      "source": [
        "nums_tuple = (7, 1, 7, 3, 7, 5)\n",
        "\n",
        "count_num = nums_tuple.count(7)\n",
        "print(count_num)"
      ],
      "metadata": {
        "colab": {
          "base_uri": "https://localhost:8080/"
        },
        "id": "Q4eJpIzaufd8",
        "outputId": "ff5a5997-0d92-40d8-8649-01e5047288d5"
      },
      "execution_count": 17,
      "outputs": [
        {
          "output_type": "stream",
          "name": "stdout",
          "text": [
            "3\n"
          ]
        }
      ]
    },
    {
      "cell_type": "markdown",
      "source": [
        "## **Advanced Problems**"
      ],
      "metadata": {
        "id": "4ogBi5xevBPU"
      }
    },
    {
      "cell_type": "code",
      "source": [
        "def remove_even(num_list):\n",
        "  return [num for num in num_list if num % 2 != 0] # This is list comprehension its easy and short at the same time\n",
        "\n",
        "nums = [1, 2, 3, 4, 5, 6, 7, 8, 9, 10, 11, 12, 13, 14, 15]\n",
        "print(remove_even(nums))"
      ],
      "metadata": {
        "colab": {
          "base_uri": "https://localhost:8080/"
        },
        "id": "7n87YyjJvE20",
        "outputId": "6d65080a-8420-41d1-cf06-0eb5274e42aa"
      },
      "execution_count": 21,
      "outputs": [
        {
          "output_type": "stream",
          "name": "stdout",
          "text": [
            "[1, 3, 5, 7, 9, 11, 13, 15]\n"
          ]
        }
      ]
    },
    {
      "cell_type": "code",
      "source": [
        "def in_descending(num_list):\n",
        "  for a in range (len(num_list)):\n",
        "    for b in range(a + 1, len(num_list)):\n",
        "      if num_list[a] < num_list[b]:\n",
        "        num_list[a], num_list[b] = num_list[b], num_list[a]\n",
        "  return num_list\n",
        "\n",
        "nums = [10, 6, 8, 5, 3, 1, 9]\n",
        "print(in_descending(nums))"
      ],
      "metadata": {
        "colab": {
          "base_uri": "https://localhost:8080/"
        },
        "id": "QFudsgl6wRyc",
        "outputId": "9ef1655e-08ea-4cc0-eca7-f8063a86505a"
      },
      "execution_count": 26,
      "outputs": [
        {
          "output_type": "stream",
          "name": "stdout",
          "text": [
            "[10, 9, 8, 6, 5, 3, 1]\n"
          ]
        }
      ]
    },
    {
      "cell_type": "code",
      "source": [
        "def remove_duplicates(name):\n",
        "  unique_list = list(set(name))\n",
        "  return tuple(unique_list)\n",
        "\n",
        "names = (\"Talha\", \"Hamza\", \"Talha\", \"Ali\", \"Saad\", \"Hamza\")\n",
        "print(remove_duplicates(names))"
      ],
      "metadata": {
        "colab": {
          "base_uri": "https://localhost:8080/"
        },
        "id": "T0C92Ud273Ir",
        "outputId": "ee3dfa81-9071-4779-8aaa-159ea10f39a5"
      },
      "execution_count": 29,
      "outputs": [
        {
          "output_type": "stream",
          "name": "stdout",
          "text": [
            "('Ali', 'Saad', 'Talha', 'Hamza')\n"
          ]
        }
      ]
    },
    {
      "cell_type": "code",
      "source": [
        "def sperate_types(mix_list):\n",
        "  int_list = []\n",
        "  str_list = []\n",
        "  float_list = []\n",
        "\n",
        "  for i in mix_list:\n",
        "    if isinstance(i, int) and not isinstance(i, bool):  # Avoids treating booleans as integers because a True in boolean is equal to 1.\n",
        "        int_list.append(i)\n",
        "    elif isinstance(i, str):\n",
        "      str_list.append(i)\n",
        "    elif isinstance(i, float):\n",
        "      float_list.append(i)\n",
        "\n",
        "  return int_list, str_list, float_list\n",
        "\n",
        "mixed_list = [\"hy\", 12, 4.13, \"bye\", 9.8, \"again hy\", 67, \"again bye\", 0.9, 16]\n",
        "ints, strs, floats = sperate_types(mixed_list)\n",
        "\n",
        "print(f\"Integers: {ints}\")\n",
        "print(f\"Strings: {strs}\")\n",
        "print(f\"Floats: {floats}\")"
      ],
      "metadata": {
        "colab": {
          "base_uri": "https://localhost:8080/"
        },
        "id": "YWZ2XVa_9X-L",
        "outputId": "a030d28a-cdcb-41d7-92ed-b94307664586"
      },
      "execution_count": 33,
      "outputs": [
        {
          "output_type": "stream",
          "name": "stdout",
          "text": [
            "Integers: [12, 67, 16]\n",
            "Strings: ['hy', 'bye', 'again hy', 'again bye']\n",
            "Floats: [4.13, 9.8, 0.9]\n"
          ]
        }
      ]
    }
  ]
}